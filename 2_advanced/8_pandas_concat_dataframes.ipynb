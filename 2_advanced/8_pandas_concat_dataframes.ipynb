{
 "cells": [
  {
   "cell_type": "code",
   "execution_count": 1,
   "id": "74ed9979",
   "metadata": {},
   "outputs": [],
   "source": [
    "import pandas as pd\n",
    "from datasets import load_dataset\n",
    "import matplotlib.pyplot as plt\n",
    "\n",
    "dataset = load_dataset(\"lukebarousse/data_jobs\")\n",
    "df = dataset[\"train\"].to_pandas()\n",
    "\n",
    "df[\"job_posted_date\"] = pd.to_datetime(df[\"job_posted_date\"])"
   ]
  },
  {
   "cell_type": "code",
   "execution_count": null,
   "id": "7a7da44e",
   "metadata": {},
   "outputs": [],
   "source": [
    "df[\"job_posted_month\"] = df[\"job_posted_date\"].dt.strftime(\"%b\")\n",
    "df"
   ]
  },
  {
   "cell_type": "code",
   "execution_count": null,
   "id": "1df5825c",
   "metadata": {},
   "outputs": [],
   "source": [
    "\n",
    "\"\"\"\"\n",
    "dict_months = {\n",
    "    \"Jan\": df_jan,\n",
    "    \"Feb\": df_feb,\n",
    "    \"Mar\": df_mar,\n",
    "    \"Apr\": df_apr,\n",
    "    \"May\": df_may,\n",
    "    \"Jun\": df_jun,\n",
    "    \"Jul\": df_jul,\n",
    "    \"Aug\": df_aug,\n",
    "    \"Sep\": df_sep,\n",
    "    \"Oct\": df_oct,\n",
    "    \"Nov\": df_nov,\n",
    "    \"Dec\": df_dec,\n",
    "}\n",
    "\"\"\"\n",
    "\n",
    "months = df[\"job_posted_month\"].unique()\n",
    "\n",
    "dict_months = {month: df[df[\"job_posted_month\"] == month] for month in months}\n",
    "\n",
    "dict_months[\"Jan\"]\n"
   ]
  },
  {
   "cell_type": "code",
   "execution_count": 10,
   "id": "7b0eccde",
   "metadata": {},
   "outputs": [],
   "source": [
    "df_q1 = pd.concat([dict_months[\"Jan\"], dict_months[\"Feb\"], dict_months[\"Mar\"]], ignore_index=True)"
   ]
  },
  {
   "cell_type": "code",
   "execution_count": 13,
   "id": "9fc8edfd",
   "metadata": {},
   "outputs": [],
   "source": [
    "df_q1.to_csv(\"quarter1.csv\")"
   ]
  },
  {
   "cell_type": "code",
   "execution_count": null,
   "id": "9ac6ec0d",
   "metadata": {},
   "outputs": [],
   "source": [
    "pd.read_csv(\"quarter1.csv\", index_col=0)"
   ]
  },
  {
   "cell_type": "code",
   "execution_count": 19,
   "id": "5ad0f51b",
   "metadata": {},
   "outputs": [
    {
     "name": "stdout",
     "output_type": "stream",
     "text": [
      "Collecting openpyxl\n",
      "  Downloading openpyxl-3.1.5-py2.py3-none-any.whl.metadata (2.5 kB)\n",
      "Collecting et-xmlfile (from openpyxl)\n",
      "  Downloading et_xmlfile-2.0.0-py3-none-any.whl.metadata (2.7 kB)\n",
      "Downloading openpyxl-3.1.5-py2.py3-none-any.whl (250 kB)\n",
      "Downloading et_xmlfile-2.0.0-py3-none-any.whl (18 kB)\n",
      "Installing collected packages: et-xmlfile, openpyxl\n",
      "Successfully installed et-xmlfile-2.0.0 openpyxl-3.1.5\n"
     ]
    },
    {
     "name": "stderr",
     "output_type": "stream",
     "text": [
      "\n",
      "[notice] A new release of pip is available: 24.3.1 -> 25.2\n",
      "[notice] To update, run: C:\\Users\\Nutzer\\AppData\\Local\\Programs\\Python\\Python313\\python.exe -m pip install --upgrade pip\n"
     ]
    }
   ],
   "source": [
    "! pip install openpyxl"
   ]
  },
  {
   "cell_type": "code",
   "execution_count": 22,
   "id": "1f71b513",
   "metadata": {},
   "outputs": [
    {
     "name": "stderr",
     "output_type": "stream",
     "text": [
      "Exception ignored in: <function ZipFile.__del__ at 0x000001CE0BE6CE00>\n",
      "Traceback (most recent call last):\n",
      "  File \"c:\\Users\\Nutzer\\anaconda3\\Lib\\zipfile\\__init__.py\", line 1988, in __del__\n",
      "    self.close()\n",
      "  File \"c:\\Users\\Nutzer\\anaconda3\\Lib\\zipfile\\__init__.py\", line 2005, in close\n",
      "    self.fp.seek(self.start_dir)\n",
      "ValueError: seek of closed file\n"
     ]
    }
   ],
   "source": [
    "df_q1.to_excel(\"quarter1.xlsx\", engine=\"openpyxl\")"
   ]
  },
  {
   "cell_type": "code",
   "execution_count": null,
   "id": "81380aef",
   "metadata": {},
   "outputs": [],
   "source": []
  }
 ],
 "metadata": {
  "kernelspec": {
   "display_name": "base",
   "language": "python",
   "name": "python3"
  },
  "language_info": {
   "codemirror_mode": {
    "name": "ipython",
    "version": 3
   },
   "file_extension": ".py",
   "mimetype": "text/x-python",
   "name": "python",
   "nbconvert_exporter": "python",
   "pygments_lexer": "ipython3",
   "version": "3.13.5"
  }
 },
 "nbformat": 4,
 "nbformat_minor": 5
}
